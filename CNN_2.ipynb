{
 "cells": [
  {
   "cell_type": "markdown",
   "metadata": {},
   "source": [
    "### Importing Packages"
   ]
  },
  {
   "cell_type": "code",
   "execution_count": 1,
   "metadata": {},
   "outputs": [
    {
     "name": "stderr",
     "output_type": "stream",
     "text": [
      "Using TensorFlow backend.\n"
     ]
    }
   ],
   "source": [
    "import numpy as np\n",
    "import pandas as pd\n",
    "import cv2\n",
    "from keras.models import Sequential\n",
    "from keras.layers import Convolution2D\n",
    "from keras.layers import MaxPooling2D\n",
    "from keras.layers import Dense\n",
    "from keras.layers import Flatten"
   ]
  },
  {
   "cell_type": "markdown",
   "metadata": {},
   "source": [
    "### CNN Model"
   ]
  },
  {
   "cell_type": "code",
   "execution_count": 2,
   "metadata": {},
   "outputs": [
    {
     "name": "stdout",
     "output_type": "stream",
     "text": [
      "WARNING:tensorflow:From C:\\Users\\spars\\miniconda3\\lib\\site-packages\\tensorflow\\python\\framework\\op_def_library.py:263: colocate_with (from tensorflow.python.framework.ops) is deprecated and will be removed in a future version.\n",
      "Instructions for updating:\n",
      "Colocations handled automatically by placer.\n"
     ]
    },
    {
     "name": "stderr",
     "output_type": "stream",
     "text": [
      "C:\\Users\\spars\\miniconda3\\lib\\site-packages\\ipykernel_launcher.py:2: UserWarning: Update your `Conv2D` call to the Keras 2 API: `Conv2D(64, (3, 3), input_shape=(64, 64, 3..., activation=\"relu\")`\n",
      "  \n",
      "C:\\Users\\spars\\miniconda3\\lib\\site-packages\\ipykernel_launcher.py:6: UserWarning: Update your `Conv2D` call to the Keras 2 API: `Conv2D(64, (3, 3), activation=\"relu\")`\n",
      "  \n"
     ]
    }
   ],
   "source": [
    "classifier = Sequential()\n",
    "classifier.add(Convolution2D(64,3,3,input_shape = (64,64,3),activation = 'relu'))\n",
    "# classifier.add(Convolution2D(64,3,3,activation = 'relu'))\n",
    "classifier.add(MaxPooling2D(pool_size=(2,2)))\n",
    "# classifier.add(Convolution2D(64,3,3,activation = 'relu'))\n",
    "classifier.add(Convolution2D(64,3,3,activation = 'relu'))\n",
    "classifier.add(MaxPooling2D(pool_size=(2,2)))\n",
    "classifier.add(Flatten())\n",
    "classifier.add(Dense(128,activation='relu'))\n",
    "classifier.add(Dense(128,activation='relu'))\n",
    "classifier.add(Dense(1,activation='sigmoid'))\n",
    "classifier.compile(optimizer= 'adam', loss = 'binary_crossentropy', metrics = ['accuracy'])"
   ]
  },
  {
   "cell_type": "markdown",
   "metadata": {},
   "source": [
    "### Traing and Testing the data"
   ]
  },
  {
   "cell_type": "code",
   "execution_count": 3,
   "metadata": {},
   "outputs": [
    {
     "name": "stdout",
     "output_type": "stream",
     "text": [
      "Found 8000 images belonging to 2 classes.\n",
      "Found 2000 images belonging to 2 classes.\n",
      "WARNING:tensorflow:From C:\\Users\\spars\\miniconda3\\lib\\site-packages\\tensorflow\\python\\ops\\math_ops.py:3066: to_int32 (from tensorflow.python.ops.math_ops) is deprecated and will be removed in a future version.\n",
      "Instructions for updating:\n",
      "Use tf.cast instead.\n"
     ]
    },
    {
     "name": "stderr",
     "output_type": "stream",
     "text": [
      "C:\\Users\\spars\\miniconda3\\lib\\site-packages\\ipykernel_launcher.py:23: UserWarning: The semantics of the Keras 2 argument `steps_per_epoch` is not the same as the Keras 1 argument `samples_per_epoch`. `steps_per_epoch` is the number of batches to draw from the generator at each epoch. Basically steps_per_epoch = samples_per_epoch/batch_size. Similarly `nb_val_samples`->`validation_steps` and `val_samples`->`steps` arguments have changed. Update your method calls accordingly.\n",
      "C:\\Users\\spars\\miniconda3\\lib\\site-packages\\ipykernel_launcher.py:23: UserWarning: Update your `fit_generator` call to the Keras 2 API: `fit_generator(<keras_pre..., validation_data=<keras_pre..., steps_per_epoch=250, epochs=25, validation_steps=2000)`\n"
     ]
    },
    {
     "name": "stdout",
     "output_type": "stream",
     "text": [
      "Epoch 1/25\n",
      "250/250 [==============================] - 262s 1s/step - loss: 0.6676 - acc: 0.5917 - val_loss: 0.6031 - val_acc: 0.6782\n",
      "Epoch 2/25\n",
      "250/250 [==============================] - 250s 1000ms/step - loss: 0.6042 - acc: 0.6712 - val_loss: 0.5522 - val_acc: 0.7236\n",
      "Epoch 3/25\n",
      "250/250 [==============================] - 254s 1s/step - loss: 0.5565 - acc: 0.7124 - val_loss: 0.5204 - val_acc: 0.7500\n",
      "Epoch 4/25\n",
      "250/250 [==============================] - 253s 1s/step - loss: 0.5291 - acc: 0.7374 - val_loss: 0.5735 - val_acc: 0.7185\n",
      "Epoch 5/25\n",
      "250/250 [==============================] - 253s 1s/step - loss: 0.4978 - acc: 0.7620 - val_loss: 0.4943 - val_acc: 0.7729\n",
      "Epoch 6/25\n",
      "250/250 [==============================] - 250s 999ms/step - loss: 0.4723 - acc: 0.7741 - val_loss: 0.4644 - val_acc: 0.7784\n",
      "Epoch 7/25\n",
      "250/250 [==============================] - 261s 1s/step - loss: 0.4629 - acc: 0.7731 - val_loss: 0.4553 - val_acc: 0.7885\n",
      "Epoch 8/25\n",
      "250/250 [==============================] - 256s 1s/step - loss: 0.4362 - acc: 0.7914 - val_loss: 0.4682 - val_acc: 0.7952\n",
      "Epoch 9/25\n",
      "250/250 [==============================] - 255s 1s/step - loss: 0.4121 - acc: 0.8065 - val_loss: 0.4752 - val_acc: 0.7892\n",
      "Epoch 10/25\n",
      "250/250 [==============================] - 263s 1s/step - loss: 0.4064 - acc: 0.8098 - val_loss: 0.6234 - val_acc: 0.6960\n",
      "Epoch 11/25\n",
      "250/250 [==============================] - 258s 1s/step - loss: 0.3893 - acc: 0.8209 - val_loss: 0.4380 - val_acc: 0.8020\n",
      "Epoch 12/25\n",
      "250/250 [==============================] - 268s 1s/step - loss: 0.3725 - acc: 0.8269 - val_loss: 0.4571 - val_acc: 0.7939\n",
      "Epoch 13/25\n",
      "250/250 [==============================] - 259s 1s/step - loss: 0.3525 - acc: 0.8382 - val_loss: 0.4698 - val_acc: 0.8100\n",
      "Epoch 14/25\n",
      "250/250 [==============================] - 267s 1s/step - loss: 0.3434 - acc: 0.8462 - val_loss: 0.4505 - val_acc: 0.8010\n",
      "Epoch 15/25\n",
      "250/250 [==============================] - 270s 1s/step - loss: 0.3269 - acc: 0.8587 - val_loss: 0.4974 - val_acc: 0.8024\n",
      "Epoch 16/25\n",
      "250/250 [==============================] - 250s 1s/step - loss: 0.3104 - acc: 0.8634 - val_loss: 0.4506 - val_acc: 0.8092\n",
      "Epoch 17/25\n",
      "250/250 [==============================] - 259s 1s/step - loss: 0.2973 - acc: 0.8700 - val_loss: 0.4874 - val_acc: 0.8052\n",
      "Epoch 18/25\n",
      "250/250 [==============================] - 261s 1s/step - loss: 0.2809 - acc: 0.8825 - val_loss: 0.5064 - val_acc: 0.7806\n",
      "Epoch 19/25\n",
      "250/250 [==============================] - 260s 1s/step - loss: 0.2641 - acc: 0.8885 - val_loss: 0.5156 - val_acc: 0.7950\n",
      "Epoch 20/25\n",
      "250/250 [==============================] - 257s 1s/step - loss: 0.2581 - acc: 0.8882 - val_loss: 0.5068 - val_acc: 0.7969\n",
      "Epoch 21/25\n",
      "250/250 [==============================] - 20176s 81s/step - loss: 0.2425 - acc: 0.8982 - val_loss: 0.5867 - val_acc: 0.8096\n",
      "Epoch 22/25\n",
      "250/250 [==============================] - 490s 2s/step - loss: 0.2408 - acc: 0.9017 - val_loss: 0.5921 - val_acc: 0.7980\n",
      "Epoch 23/25\n",
      "250/250 [==============================] - 475s 2s/step - loss: 0.2302 - acc: 0.9024 - val_loss: 0.5201 - val_acc: 0.8083\n",
      "Epoch 24/25\n",
      "250/250 [==============================] - 481s 2s/step - loss: 0.2112 - acc: 0.9120 - val_loss: 0.5766 - val_acc: 0.7920\n",
      "Epoch 25/25\n",
      "250/250 [==============================] - 453s 2s/step - loss: 0.2063 - acc: 0.9152 - val_loss: 0.7092 - val_acc: 0.7730\n"
     ]
    },
    {
     "data": {
      "text/plain": [
       "<keras.callbacks.History at 0x23e14b12978>"
      ]
     },
     "execution_count": 3,
     "metadata": {},
     "output_type": "execute_result"
    }
   ],
   "source": [
    "from keras.preprocessing.image import ImageDataGenerator\n",
    "train_datagen = ImageDataGenerator(rescale = 1./255,\n",
    "                                   shear_range = 0.2,\n",
    "                                   zoom_range = 0.2,\n",
    "                                   horizontal_flip = True)\n",
    "\n",
    "test_datagen = ImageDataGenerator(rescale = 1./255)\n",
    "\n",
    "training_set = train_datagen.flow_from_directory('dataset/training_set',\n",
    "                                                 target_size = (64,64),\n",
    "                                                 batch_size = 32,\n",
    "                                                 class_mode = 'binary')\n",
    "\n",
    "test_set = test_datagen.flow_from_directory('dataset/test_set',\n",
    "                                            target_size = (64,64),\n",
    "                                            batch_size = 32,\n",
    "                                            class_mode = 'binary')\n",
    "\n",
    "classifier.fit_generator(training_set,\n",
    "                         samples_per_epoch = 8000,\n",
    "                         nb_epoch = 25,\n",
    "                         validation_data = test_set,\n",
    "                         nb_val_samples = 2000)\n"
   ]
  },
  {
   "cell_type": "markdown",
   "metadata": {},
   "source": [
    "### We get an Accuracy of 92%, which indicates a Good Model"
   ]
  },
  {
   "cell_type": "markdown",
   "metadata": {},
   "source": [
    "#### Predicting our own handwritten digit using OpenCV"
   ]
  },
  {
   "cell_type": "code",
   "execution_count": null,
   "metadata": {},
   "outputs": [],
   "source": [
    "import cv2\n",
    "cam = cv2.VideoCapture(0)\n",
    "cv2.namedWindow(\"test\")\n",
    "while True:\n",
    "    ret, frame = cam.read()\n",
    "    cv2.imshow(\"test\", frame)\n",
    "    if ret == False:\n",
    "        break\n",
    "    k = cv2.waitKey(1)\n",
    "\n",
    "    if k%256 == 27:      # ESC pressed\n",
    "        break\n",
    "    elif k%256 == 32:    # SPACE pressed\n",
    "        cv2.imwrite('test_image.jpg', frame)\n",
    "cam.release()\n",
    "cv2.destroyAllWindows()\n",
    "\n",
    "\n",
    "classifier.save('model.h5')\n",
    "from keras.models import load_model\n",
    "model = load_model('model.h5')\n",
    "model.compile(loss='binary_crossentropy',\n",
    "              optimizer='rmsprop',\n",
    "              metrics=['accuracy'])\n",
    "\n",
    "img = cv2.imread('test_image.jpg')\n",
    "img = cv2.resize(img,(64,64))\n",
    "img = np.reshape(img,[1,64,64,3])\n",
    "\n",
    "pred = model.predict_classes(img)\n",
    "\n",
    "print(pred) "
   ]
  }
 ],
 "metadata": {
  "kernelspec": {
   "display_name": "Python 3",
   "language": "python",
   "name": "python3"
  },
  "language_info": {
   "codemirror_mode": {
    "name": "ipython",
    "version": 3
   },
   "file_extension": ".py",
   "mimetype": "text/x-python",
   "name": "python",
   "nbconvert_exporter": "python",
   "pygments_lexer": "ipython3",
   "version": "3.7.1"
  }
 },
 "nbformat": 4,
 "nbformat_minor": 2
}
